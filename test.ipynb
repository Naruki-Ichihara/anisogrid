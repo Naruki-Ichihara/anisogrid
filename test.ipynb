{
 "cells": [
  {
   "cell_type": "markdown",
   "metadata": {},
   "source": [
    "# two-dimensional bending plate example\n",
    "## Import Optimizer class"
   ]
  },
  {
   "cell_type": "code",
   "execution_count": null,
   "metadata": {},
   "outputs": [],
   "source": [
    "from anisogrid.tools import Optimizer\n",
    "from fenics import *\n",
    "from fenics_adjoint import *\n",
    "import numpy as np"
   ]
  },
  {
   "cell_type": "markdown",
   "metadata": {},
   "source": [
    "## Mesh generation"
   ]
  },
  {
   "cell_type": "code",
   "execution_count": null,
   "metadata": {},
   "outputs": [],
   "source": [
    "mesh = RectangleMesh(Point(0,0), Point(50,20), 100, 40)\n",
    "N = mesh.num_vertices()"
   ]
  },
  {
   "cell_type": "markdown",
   "metadata": {},
   "source": [
    "## Defin SubDomains for boundary conditions"
   ]
  },
  {
   "cell_type": "code",
   "execution_count": null,
   "metadata": {},
   "outputs": [],
   "source": [
    "class Left(SubDomain):\n",
    "    def inside(self, x, on_boundary):\n",
    "        return x[0] < 0.01 and on_boundary\n",
    "\n",
    "class Right(SubDomain):\n",
    "    def inside(self, x, on_boundary):\n",
    "        return x[0] > 45 and x[1] < 0.1 and on_boundary\n",
    "\n",
    "class Loading(SubDomain):\n",
    "    def inside(self, x, on_boundary):\n",
    "        return x[1] > 19.9 and x[0] < 5. and on_boundary"
   ]
  },
  {
   "cell_type": "markdown",
   "metadata": {},
   "source": [
    "## Define displacement boundary conditions"
   ]
  },
  {
   "cell_type": "code",
   "execution_count": null,
   "metadata": {},
   "outputs": [],
   "source": [
    "displacement_boundaries_0 = [Left()]\n",
    "displacement_boundaries_1 = [Right()]\n",
    "applied_disp_0 = [Constant(0)]\n",
    "applied_disp_1 = [Constant(0)]"
   ]
  },
  {
   "cell_type": "markdown",
   "metadata": {},
   "source": [
    "## Define loading boundary conditions"
   ]
  },
  {
   "cell_type": "code",
   "execution_count": null,
   "metadata": {},
   "outputs": [],
   "source": [
    "loading_boundaries = [Loading()]\n",
    "applied_loads = [Constant((0, -1))]"
   ]
  },
  {
   "cell_type": "markdown",
   "metadata": {},
   "source": [
    "## Define material properties"
   ]
  },
  {
   "cell_type": "markdown",
   "metadata": {},
   "source": []
  },
  {
   "cell_type": "code",
   "execution_count": null,
   "metadata": {},
   "outputs": [],
   "source": [
    "material = {'E1': 15, 'E2': 1, 'nu12':0.33, 'G12': 1}\n",
    "path = 'results/example2/'\n",
    "files = {'Displacement': XDMFFile('{}displacement.xdmf'.format(path)),\n",
    "         'Stress': XDMFFile('{}stress.xdmf'.format(path)),\n",
    "         'Strain': XDMFFile('{}strain.xdmf'.format(path)),\n",
    "         'Orient': XDMFFile('{}orient.xdmf'.format(path)),\n",
    "         'Orientpipe': File('{}orient.xml'.format(path)),\n",
    "         'Denspipe': File('{}dens.xml'.format(path)),\n",
    "         'Dens': XDMFFile('{}dens.xdmf'.format(path))\n",
    "        }"
   ]
  },
  {
   "cell_type": "markdown",
   "metadata": {},
   "source": [
    "## Initialize all design variables"
   ]
  },
  {
   "cell_type": "code",
   "execution_count": null,
   "metadata": {},
   "outputs": [],
   "source": [
    "z0 = np.ones(N)\n",
    "e0 = np.zeros(N)\n",
    "r0 = np.zeros(N)\n",
    "x0 = np.concatenate([z0, e0, r0])"
   ]
  },
  {
   "cell_type": "markdown",
   "metadata": {},
   "source": [
    "## Optimizer setup"
   ]
  },
  {
   "cell_type": "code",
   "execution_count": null,
   "metadata": {},
   "outputs": [],
   "source": [
    "opt = Optimizer()\n",
    "opt.set_mesh(mesh)\n",
    "opt.set_bcs(displacement_boundaries_0, displacement_boundaries_1, applied_disp_0, applied_disp_1)\n",
    "opt.set_loading(loading_boundaries, applied_loads)\n",
    "opt.set_material(material)\n",
    "opt.set_working_dir(files)\n",
    "opt.set_target(0.5, coffSigmoid=5)\n",
    "opt.initialize()\n",
    "opt.run(x0, max_itr=50)"
   ]
  }
 ],
 "metadata": {
  "interpreter": {
   "hash": "5da8a1741aa3f166a66243d6175e41570270aa0059d22af90ef8bfa9cb0991ea"
  },
  "kernelspec": {
   "display_name": "Python 3.7.10 64-bit",
   "name": "python3"
  },
  "language_info": {
   "codemirror_mode": {
    "name": "ipython",
    "version": 3
   },
   "file_extension": ".py",
   "mimetype": "text/x-python",
   "name": "python",
   "nbconvert_exporter": "python",
   "pygments_lexer": "ipython3",
   "version": "3.7.10"
  },
  "orig_nbformat": 4
 },
 "nbformat": 4,
 "nbformat_minor": 2
}
