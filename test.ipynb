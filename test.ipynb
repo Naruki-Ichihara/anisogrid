{
 "cells": [
  {
   "cell_type": "markdown",
   "source": [
    "# two-dimensional bending plate example\n",
    "## Import Optimizer class"
   ],
   "metadata": {}
  },
  {
   "cell_type": "code",
   "execution_count": 11,
   "source": [
    "from anisogrid.tools import Optimizer\n",
    "from fenics import *\n",
    "from fenics_adjoint import *\n",
    "import numpy as np\n"
   ],
   "outputs": [],
   "metadata": {}
  },
  {
   "cell_type": "markdown",
   "source": [
    "## Mesh generation"
   ],
   "metadata": {}
  },
  {
   "cell_type": "code",
   "execution_count": 12,
   "source": [
    "mesh = RectangleMesh(Point(0,0), Point(50,20), 50, 20)\n",
    "N = mesh.num_vertices()"
   ],
   "outputs": [],
   "metadata": {}
  },
  {
   "cell_type": "markdown",
   "source": [
    "## Defin SubDomains for boundary conditions"
   ],
   "metadata": {}
  },
  {
   "cell_type": "code",
   "execution_count": 14,
   "source": [
    "class Left(SubDomain):\n",
    "    def inside(self, x, on_boundary):\n",
    "        return x[0] < 0.01 and on_boundary\n",
    "\n",
    "class Right(SubDomain):\n",
    "    def inside(self, x, on_boundary):\n",
    "        return x[0] > 45 and x[1] < 0.1 and on_boundary\n",
    "\n",
    "class Loading(SubDomain):\n",
    "    def inside(self, x, on_boundary):\n",
    "        return x[1] > 19.9 and x[0] < 5. and on_boundary"
   ],
   "outputs": [],
   "metadata": {}
  },
  {
   "cell_type": "markdown",
   "source": [
    "## Define displacement boundary conditions"
   ],
   "metadata": {}
  },
  {
   "cell_type": "code",
   "execution_count": 15,
   "source": [
    "displacement_boundaries_0 = [Left()]\n",
    "displacement_boundaries_1 = [Right()]\n",
    "applied_disp_0 = [Constant(0)]\n",
    "applied_disp_1 = [Constant(0)]"
   ],
   "outputs": [],
   "metadata": {}
  },
  {
   "cell_type": "markdown",
   "source": [
    "## Define loading boundary conditions"
   ],
   "metadata": {}
  },
  {
   "cell_type": "code",
   "execution_count": 16,
   "source": [
    "loading_boundaries = [Loading()]\n",
    "applied_loads = [Constant((0, -1))]"
   ],
   "outputs": [],
   "metadata": {}
  },
  {
   "cell_type": "markdown",
   "source": [
    "## Define material properties"
   ],
   "metadata": {}
  },
  {
   "cell_type": "markdown",
   "source": [],
   "metadata": {}
  },
  {
   "cell_type": "code",
   "execution_count": 17,
   "source": [
    "material = {'E1': 3600, 'E2': 600, 'nu12':0.33, 'G12': 500}\n",
    "path = 'results/example1/'\n",
    "files = {'Displacement': XDMFFile('{}displacement.xdmf'.format(path)),\n",
    "         'Stress': XDMFFile('{}stress.xdmf'.format(path)),\n",
    "         'Strain': XDMFFile('{}strain.xdmf'.format(path)),\n",
    "         'Orient': XDMFFile('{}orient.xdmf'.format(path)),\n",
    "         'Orientpipe': File('{}orient.xml'.format(path)),\n",
    "         'Denspipe': File('{}dens.xml'.format(path)),\n",
    "         'Dens': XDMFFile('{}dens.xdmf'.format(path))\n",
    "        }"
   ],
   "outputs": [],
   "metadata": {}
  },
  {
   "cell_type": "markdown",
   "source": [
    "## Initialize all design variables"
   ],
   "metadata": {}
  },
  {
   "cell_type": "code",
   "execution_count": 24,
   "source": [
    "z0 = np.ones(N)\n",
    "e0 = np.zeros(N)\n",
    "r0 = np.ones(N)*0.5\n",
    "x0 = np.concatenate([z0, e0, r0])"
   ],
   "outputs": [],
   "metadata": {}
  },
  {
   "cell_type": "markdown",
   "source": [
    "## Optimizer setup"
   ],
   "metadata": {}
  },
  {
   "cell_type": "code",
   "execution_count": 31,
   "source": [
    "opt = Optimizer()\n",
    "opt.set_mesh(mesh)\n",
    "opt.set_bcs(displacement_boundaries_0, displacement_boundaries_1, applied_disp_0, applied_disp_1)\n",
    "opt.set_loading(loading_boundaries, applied_loads)\n",
    "opt.set_material(material)\n",
    "opt.set_working_dir(files)\n",
    "opt.set_target(0.9)\n",
    "opt.initialize()\n",
    "opt.run(x0)"
   ],
   "outputs": [
    {
     "output_type": "stream",
     "name": "stdout",
     "text": [
      "0.17793090845932777\n",
      "MMA dual converged in 6 iterations to g=0.177931:\n",
      "    MMA y[0]=1e+40, gc[0]=0.1\n",
      "0.17793090845932777\n"
     ]
    }
   ],
   "metadata": {}
  }
 ],
 "metadata": {
  "orig_nbformat": 4,
  "language_info": {
   "name": "python",
   "version": "3.7.10",
   "mimetype": "text/x-python",
   "codemirror_mode": {
    "name": "ipython",
    "version": 3
   },
   "pygments_lexer": "ipython3",
   "nbconvert_exporter": "python",
   "file_extension": ".py"
  },
  "kernelspec": {
   "name": "python3",
   "display_name": "Python 3.7.10 64-bit"
  },
  "interpreter": {
   "hash": "5da8a1741aa3f166a66243d6175e41570270aa0059d22af90ef8bfa9cb0991ea"
  }
 },
 "nbformat": 4,
 "nbformat_minor": 2
}